{
 "cells": [
  {
   "cell_type": "code",
   "execution_count": 1,
   "id": "0a9e0c63-7780-4956-b28c-c9419a2e237d",
   "metadata": {},
   "outputs": [
    {
     "name": "stdout",
     "output_type": "stream",
     "text": [
      "2023-12-10 13:28:00.469683 :: MainThread ::  Log init with given logger\n"
     ]
    }
   ],
   "source": [
    "import nimble_tk as ntk"
   ]
  },
  {
   "cell_type": "code",
   "execution_count": 2,
   "id": "713d9a1e-18c8-42c4-a321-5243a66fe045",
   "metadata": {},
   "outputs": [
    {
     "data": {
      "text/html": [
       "<div>\n",
       "<style scoped>\n",
       "    .dataframe tbody tr th:only-of-type {\n",
       "        vertical-align: middle;\n",
       "    }\n",
       "\n",
       "    .dataframe tbody tr th {\n",
       "        vertical-align: top;\n",
       "    }\n",
       "\n",
       "    .dataframe thead th {\n",
       "        text-align: right;\n",
       "    }\n",
       "</style>\n",
       "<table border=\"1\" class=\"dataframe\">\n",
       "  <thead>\n",
       "    <tr style=\"text-align: right;\">\n",
       "      <th></th>\n",
       "      <th>A</th>\n",
       "      <th>B</th>\n",
       "      <th>C</th>\n",
       "      <th>D</th>\n",
       "      <th>E</th>\n",
       "    </tr>\n",
       "  </thead>\n",
       "  <tbody>\n",
       "    <tr>\n",
       "      <th>0</th>\n",
       "      <td>ham</td>\n",
       "      <td>alpha</td>\n",
       "      <td>2023-08-08</td>\n",
       "      <td>0.210</td>\n",
       "      <td>2</td>\n",
       "    </tr>\n",
       "    <tr>\n",
       "      <th>1</th>\n",
       "      <td>ham</td>\n",
       "      <td>beta</td>\n",
       "      <td>2023-08-27</td>\n",
       "      <td>0.089</td>\n",
       "      <td>2</td>\n",
       "    </tr>\n",
       "    <tr>\n",
       "      <th>2</th>\n",
       "      <td>eggs</td>\n",
       "      <td>alpha</td>\n",
       "      <td>2023-08-15</td>\n",
       "      <td>0.302</td>\n",
       "      <td>3</td>\n",
       "    </tr>\n",
       "    <tr>\n",
       "      <th>3</th>\n",
       "      <td>ham</td>\n",
       "      <td>alpha</td>\n",
       "      <td>2023-06-14</td>\n",
       "      <td>-0.012</td>\n",
       "      <td>0</td>\n",
       "    </tr>\n",
       "    <tr>\n",
       "      <th>4</th>\n",
       "      <td>ham</td>\n",
       "      <td>beta</td>\n",
       "      <td>2023-06-22</td>\n",
       "      <td>-0.064</td>\n",
       "      <td>2</td>\n",
       "    </tr>\n",
       "  </tbody>\n",
       "</table>\n",
       "</div>"
      ],
      "text/plain": [
       "      A      B          C      D  E\n",
       "0   ham  alpha 2023-08-08  0.210  2\n",
       "1   ham   beta 2023-08-27  0.089  2\n",
       "2  eggs  alpha 2023-08-15  0.302  3\n",
       "3   ham  alpha 2023-06-14 -0.012  0\n",
       "4   ham   beta 2023-06-22 -0.064  2"
      ]
     },
     "execution_count": 2,
     "metadata": {},
     "output_type": "execute_result"
    }
   ],
   "source": [
    "import pandas as pd\n",
    "import numpy as np\n",
    "import datetime\n",
    "import random\n",
    "\n",
    "# A simple function to create some random data for testing the functionality\n",
    "def create_random_data(n_rows: int = 100) -> pd.DataFrame:\n",
    "    rows = []\n",
    "    for _ in range(n_rows):\n",
    "        row = {}\n",
    "        row['A'] = random.choice(['ham', 'eggs'])\n",
    "        row['B'] = random.choice(['alpha', 'beta', 'gamma'])\n",
    "        row['C'] = np.random.choice(pd.date_range(\n",
    "            datetime.datetime(2023, 6, 1), datetime.datetime(2023, 10, 1)))\n",
    "        row['D'] = np.random.randn()\n",
    "        row['E'] = np.random.randint(0, 4)\n",
    "        rows.append(row)\n",
    "    df = pd.DataFrame(rows)\n",
    "    return df\n",
    "\n",
    "df = create_random_data(n_rows=100)\n",
    "df.head()"
   ]
  },
  {
   "cell_type": "markdown",
   "id": "abbfd908-ec61-4b12-a6bf-1fb826ff5e24",
   "metadata": {},
   "source": [
    "&nbsp;"
   ]
  },
  {
   "cell_type": "markdown",
   "id": "26348991-95a4-408f-845a-6af5400e5c97",
   "metadata": {},
   "source": [
    "&nbsp;"
   ]
  },
  {
   "cell_type": "markdown",
   "id": "623c9e97-6704-4732-bbf6-1f4bb0d2ce6a",
   "metadata": {},
   "source": [
    "# Logging"
   ]
  },
  {
   "cell_type": "markdown",
   "id": "26e99035-606b-42c6-ac24-ed6b5dcd723e",
   "metadata": {},
   "source": [
    "The below set of cells give some utility wrappers on python's logging functionality.\n",
    "\n",
    "- The following line will create a log file at `/tmp/try_nimble.log`\n",
    "- As the logs get written, the log file will go up to max `50 MB` in size by default and then will get rolled over.\n",
    "- At most, `10` such files are maintained before removing the earliest file.\n",
    "- Logs will also be written to the console (in this case the notebook console) \n"
   ]
  },
  {
   "cell_type": "code",
   "execution_count": 4,
   "id": "00063484-9d86-422d-9385-f8376020f915",
   "metadata": {},
   "outputs": [
    {
     "name": "stdout",
     "output_type": "stream",
     "text": [
      "2023-12-10 13:28:00.710634 :: MainThread ::  Log file init at /tmp/try_nimble.log\n"
     ]
    }
   ],
   "source": [
    "ntk.init_file_logger(log_file_path='/tmp/try_nimble.log', console_log_on=True)"
   ]
  },
  {
   "cell_type": "markdown",
   "id": "42cee581-b859-4a6c-8693-666f3576b840",
   "metadata": {},
   "source": [
    "Example of an info log:"
   ]
  },
  {
   "cell_type": "code",
   "execution_count": 5,
   "id": "008a63cd-31ae-4518-8854-ab0ca08b3854",
   "metadata": {},
   "outputs": [
    {
     "name": "stdout",
     "output_type": "stream",
     "text": [
      "2023-12-10 13:28:00.732400 :: MainThread ::  some log message\n"
     ]
    }
   ],
   "source": [
    "ntk.log_info(\"some log message\")"
   ]
  },
  {
   "cell_type": "markdown",
   "id": "0dec6d50-0519-4f7f-8314-f5699a4d83e5",
   "metadata": {},
   "source": [
    "Example of an error log:"
   ]
  },
  {
   "cell_type": "code",
   "execution_count": 6,
   "id": "f0bc25cd-bd43-4fda-a14b-4c42d0e75292",
   "metadata": {},
   "outputs": [
    {
     "name": "stderr",
     "output_type": "stream",
     "text": [
      "2023-12-10 13:28:00.748484 :: MainThread ::  some error message\n"
     ]
    }
   ],
   "source": [
    "ntk.log_error(\"some error message\")"
   ]
  },
  {
   "cell_type": "markdown",
   "id": "e315f136-68ec-4008-b441-5bb2e6d0fcf1",
   "metadata": {},
   "source": [
    "Catching an exception and logging the stack trace:"
   ]
  },
  {
   "cell_type": "code",
   "execution_count": 7,
   "id": "b57ffa11-563e-495e-820d-c533a90f009b",
   "metadata": {},
   "outputs": [
    {
     "name": "stderr",
     "output_type": "stream",
     "text": [
      "2023-12-10 13:28:00.768018 :: MainThread ::  Error while running operation :: ZeroDivisionError: division by zero ::\n",
      " Traceback (most recent call last):\n",
      "  File \"/tmp/ipykernel_6837/4084614229.py\", line 2, in <module>\n",
      "    tmp = 1/0\n",
      "ZeroDivisionError: division by zero\n"
     ]
    }
   ],
   "source": [
    "try:\n",
    "    tmp = 1/0\n",
    "except:\n",
    "    ntk.log_traceback(\"Error while running operation\")"
   ]
  },
  {
   "cell_type": "code",
   "execution_count": null,
   "id": "6397e548-6748-4cfd-84dc-9e8a8f9c0499",
   "metadata": {},
   "outputs": [],
   "source": []
  },
  {
   "cell_type": "markdown",
   "id": "271a79d5-8c73-49b0-bb04-7a96daf29d34",
   "metadata": {},
   "source": [
    "All logs are also written to the log file:"
   ]
  },
  {
   "cell_type": "code",
   "execution_count": 8,
   "id": "19d025c8-494f-47c8-9122-d84abf180231",
   "metadata": {},
   "outputs": [
    {
     "name": "stdout",
     "output_type": "stream",
     "text": [
      "2023-12-10 13:28:00,708 MainThread logger.py:88:  Log file init at /tmp/try_nimble.log\n",
      "2023-12-10 13:28:00,727 MainThread logger.py:88:  some log message\n",
      "2023-12-10 13:28:00,744 MainThread logger.py:88:  some error message\n",
      "2023-12-10 13:28:00,764 MainThread logger.py:88:  Error while running operation :: ZeroDivisionError: division by zero ::\n",
      " Traceback (most recent call last):\n",
      "  File \"/tmp/ipykernel_6837/4084614229.py\", line 2, in <module>\n",
      "    tmp = 1/0\n",
      "ZeroDivisionError: division by zero\n"
     ]
    }
   ],
   "source": [
    "! tail -10 /tmp/try_nimble.log"
   ]
  },
  {
   "cell_type": "markdown",
   "id": "aec3d289-05d8-4364-9c8d-68f9b6a7b8af",
   "metadata": {},
   "source": [
    "&nbsp;"
   ]
  },
  {
   "cell_type": "markdown",
   "id": "fb36cadc-cc28-4010-86a4-f760435a38bd",
   "metadata": {},
   "source": [
    "Logs can also be directly written to the file <b>without logging on the console</b>. This helps in cases where we do not want to flood the console with a lot of logs."
   ]
  },
  {
   "cell_type": "code",
   "execution_count": 9,
   "id": "d222d5f3-fad8-4102-bc79-78b9bc97310b",
   "metadata": {},
   "outputs": [],
   "source": [
    "ntk.log_info_file(\"some log message\")\n",
    "ntk.log_error_file(\"some error message\")\n",
    "\n",
    "try:\n",
    "    tmp = 1/0\n",
    "except:\n",
    "    ntk.log_traceback_file(\"Error while running operation\")"
   ]
  },
  {
   "cell_type": "code",
   "execution_count": 10,
   "id": "8e4d0420-264d-4832-a830-a06dab44b361",
   "metadata": {},
   "outputs": [
    {
     "name": "stdout",
     "output_type": "stream",
     "text": [
      "2023-12-10 13:28:00,928 MainThread logger.py:88:  some log message\n",
      "2023-12-10 13:28:00,933 MainThread logger.py:88:  some error message\n",
      "2023-12-10 13:28:00,938 MainThread logger.py:88:   :: ZeroDivisionError: division by zero ::\n",
      " Traceback (most recent call last):\n",
      "  File \"/tmp/ipykernel_6837/3515687902.py\", line 5, in <module>\n",
      "    tmp = 1/0\n",
      "ZeroDivisionError: division by zero\n"
     ]
    }
   ],
   "source": [
    "! tail -7 /tmp/try_nimble.log"
   ]
  },
  {
   "cell_type": "markdown",
   "id": "6e70a1f4-fa49-41d9-9dae-cd5fa66977ab",
   "metadata": {},
   "source": [
    "&nbsp;"
   ]
  },
  {
   "cell_type": "markdown",
   "id": "9492871b-368d-4f27-b5b4-62962d13c58b",
   "metadata": {},
   "source": [
    "# Concurrent Processing"
   ]
  },
  {
   "cell_type": "code",
   "execution_count": 11,
   "id": "1449d940-8cfe-4f78-873c-4e12b0d0c99d",
   "metadata": {
    "scrolled": true
   },
   "outputs": [
    {
     "name": "stdout",
     "output_type": "stream",
     "text": [
      "2023-12-10 13:28:01.170778 :: MainThread ::  Ran: 10 functions - Successfull: 9, Failed: 1\n"
     ]
    },
    {
     "data": {
      "text/html": [
       "<table border=\"1\" class=\"dataframe\">\n",
       "  <thead>\n",
       "    <tr style=\"text-align: right;\">\n",
       "      <th>CUSTOMER_ID</th>\n",
       "      <th>OTHER_DATA</th>\n",
       "    </tr>\n",
       "  </thead>\n",
       "  <tbody>\n",
       "    <tr>\n",
       "      <td>1</td>\n",
       "      <td>1</td>\n",
       "    </tr>\n",
       "    <tr>\n",
       "      <td>1</td>\n",
       "      <td>6</td>\n",
       "    </tr>\n",
       "    <tr>\n",
       "      <td>1</td>\n",
       "      <td>3</td>\n",
       "    </tr>\n",
       "    <tr>\n",
       "      <td>1</td>\n",
       "      <td>7</td>\n",
       "    </tr>\n",
       "    <tr>\n",
       "      <td>1</td>\n",
       "      <td>1</td>\n",
       "    </tr>\n",
       "  </tbody>\n",
       "</table>"
      ],
      "text/plain": [
       "<IPython.core.display.HTML object>"
      ]
     },
     "metadata": {},
     "output_type": "display_data"
    }
   ],
   "source": [
    "def analytic_function(customer_id):\n",
    "    ntk.log_info_file(f\"Running analytic_function for customer_id: {customer_id}\")\n",
    "    \n",
    "    if customer_id == 0:\n",
    "        # raising an error here to demonstrate error handling\n",
    "        raise ValueError(f\"Invalid customer id {customer_id}\")\n",
    "        \n",
    "    # - Query the DB\n",
    "    # - Do feature engineering\n",
    "    # - Run other analytics\n",
    "    \n",
    "    # - Write the result data to disk or return a DF\n",
    "    return pd.DataFrame({\n",
    "        'CUSTOMER_ID': [customer_id]*5,\n",
    "        'OTHER_DATA': np.random.randint(0, 9, 5)\n",
    "    })\n",
    "\n",
    "functions = []\n",
    "for customer_id in range(10):\n",
    "    functions.append((analytic_function, {'customer_id': customer_id}))\n",
    "\n",
    "results, errors = ntk.run_concurrently(functions, max_workers=ntk.get_num_cpus(), fork=True)\n",
    "\n",
    "df_result = pd.concat([result[1] for result in results])\n",
    "df_result.head().display(index=False)"
   ]
  },
  {
   "cell_type": "code",
   "execution_count": 14,
   "id": "e5e5eb14-dc9f-4f32-aab0-9ec39a4356fc",
   "metadata": {},
   "outputs": [
    {
     "name": "stdout",
     "output_type": "stream",
     "text": [
      "Error for customer_id = 0\n",
      " \n",
      "\"\"\"\n",
      "Traceback (most recent call last):\n",
      "  File \"/usr/lib/python3.10/concurrent/futures/process.py\", line 246, in _process_worker\n",
      "    r = call_item.fn(*call_item.args, **call_item.kwargs)\n",
      "  File \"/tmp/ipykernel_6837/4234218793.py\", line 6, in analytic_function\n",
      "    raise ValueError(f\"Invalid customer id {customer_id}\")\n",
      "ValueError: Invalid customer id 0\n",
      "\"\"\"\n"
     ]
    }
   ],
   "source": [
    "for error in errors:\n",
    "    print('Error for', error[0], ntk.exception_to_trace_string(error[1]))"
   ]
  },
  {
   "cell_type": "code",
   "execution_count": null,
   "id": "20260540-77b8-4cc9-8ab4-d3b2c8112561",
   "metadata": {},
   "outputs": [],
   "source": []
  },
  {
   "cell_type": "code",
   "execution_count": null,
   "id": "c2c16aba-bb8d-4c19-9c21-47dfca96ae2c",
   "metadata": {},
   "outputs": [],
   "source": []
  },
  {
   "cell_type": "markdown",
   "id": "c6df5884-bb48-421f-b931-be88d091b3aa",
   "metadata": {},
   "source": [
    "# Analytics"
   ]
  },
  {
   "cell_type": "markdown",
   "id": "dc603fa0-652a-468e-b732-62fe259baab2",
   "metadata": {},
   "source": [
    "Some utility functions to print custom html and also display the pandas dataframe multiple times in a cell:"
   ]
  },
  {
   "cell_type": "code",
   "execution_count": 15,
   "id": "f2cc7c83-f810-45d5-acc8-80c1af57eb17",
   "metadata": {},
   "outputs": [
    {
     "data": {
      "text/html": [
       "<h3>Some data:</h3>"
      ],
      "text/plain": [
       "<IPython.core.display.HTML object>"
      ]
     },
     "metadata": {},
     "output_type": "display_data"
    },
    {
     "data": {
      "text/html": [
       "<table border=\"1\" class=\"dataframe\">\n",
       "  <thead>\n",
       "    <tr style=\"text-align: right;\">\n",
       "      <th></th>\n",
       "      <th>A</th>\n",
       "      <th>B</th>\n",
       "      <th>C</th>\n",
       "      <th>D</th>\n",
       "      <th>E</th>\n",
       "    </tr>\n",
       "  </thead>\n",
       "  <tbody>\n",
       "    <tr>\n",
       "      <th>0</th>\n",
       "      <td>ham</td>\n",
       "      <td>alpha</td>\n",
       "      <td>2023-08-08</td>\n",
       "      <td>0.210</td>\n",
       "      <td>2</td>\n",
       "    </tr>\n",
       "    <tr>\n",
       "      <th>1</th>\n",
       "      <td>ham</td>\n",
       "      <td>beta</td>\n",
       "      <td>2023-08-27</td>\n",
       "      <td>0.089</td>\n",
       "      <td>2</td>\n",
       "    </tr>\n",
       "    <tr>\n",
       "      <th>2</th>\n",
       "      <td>eggs</td>\n",
       "      <td>alpha</td>\n",
       "      <td>2023-08-15</td>\n",
       "      <td>0.302</td>\n",
       "      <td>3</td>\n",
       "    </tr>\n",
       "    <tr>\n",
       "      <th>3</th>\n",
       "      <td>ham</td>\n",
       "      <td>alpha</td>\n",
       "      <td>2023-06-14</td>\n",
       "      <td>-0.012</td>\n",
       "      <td>0</td>\n",
       "    </tr>\n",
       "    <tr>\n",
       "      <th>4</th>\n",
       "      <td>ham</td>\n",
       "      <td>beta</td>\n",
       "      <td>2023-06-22</td>\n",
       "      <td>-0.064</td>\n",
       "      <td>2</td>\n",
       "    </tr>\n",
       "  </tbody>\n",
       "</table>"
      ],
      "text/plain": [
       "<IPython.core.display.HTML object>"
      ]
     },
     "metadata": {},
     "output_type": "display_data"
    },
    {
     "data": {
      "text/html": [
       "<h3>Some more data:</h3>"
      ],
      "text/plain": [
       "<IPython.core.display.HTML object>"
      ]
     },
     "metadata": {},
     "output_type": "display_data"
    },
    {
     "data": {
      "text/html": [
       "<table border=\"1\" class=\"dataframe\">\n",
       "  <thead>\n",
       "    <tr style=\"text-align: right;\">\n",
       "      <th>A</th>\n",
       "      <th>B</th>\n",
       "      <th>C</th>\n",
       "      <th>D</th>\n",
       "      <th>E</th>\n",
       "    </tr>\n",
       "  </thead>\n",
       "  <tbody>\n",
       "    <tr>\n",
       "      <td>eggs</td>\n",
       "      <td>gamma</td>\n",
       "      <td>2023-07-31</td>\n",
       "      <td>-0.606</td>\n",
       "      <td>3</td>\n",
       "    </tr>\n",
       "    <tr>\n",
       "      <td>ham</td>\n",
       "      <td>beta</td>\n",
       "      <td>2023-08-21</td>\n",
       "      <td>2.017</td>\n",
       "      <td>2</td>\n",
       "    </tr>\n",
       "    <tr>\n",
       "      <td>eggs</td>\n",
       "      <td>beta</td>\n",
       "      <td>2023-08-09</td>\n",
       "      <td>-0.599</td>\n",
       "      <td>1</td>\n",
       "    </tr>\n",
       "    <tr>\n",
       "      <td>ham</td>\n",
       "      <td>gamma</td>\n",
       "      <td>2023-08-31</td>\n",
       "      <td>1.040</td>\n",
       "      <td>0</td>\n",
       "    </tr>\n",
       "    <tr>\n",
       "      <td>eggs</td>\n",
       "      <td>alpha</td>\n",
       "      <td>2023-08-12</td>\n",
       "      <td>0.315</td>\n",
       "      <td>1</td>\n",
       "    </tr>\n",
       "  </tbody>\n",
       "</table>"
      ],
      "text/plain": [
       "<IPython.core.display.HTML object>"
      ]
     },
     "metadata": {},
     "output_type": "display_data"
    }
   ],
   "source": [
    "ntk.h3(\"Some data:\")\n",
    "df.head().display()\n",
    "\n",
    "ntk.html(\"<h3>Some more data:</h3>\")\n",
    "df.tail().display(index=False)"
   ]
  },
  {
   "cell_type": "markdown",
   "id": "0971b3a9-e23b-418a-99a3-7e0e10be0efc",
   "metadata": {},
   "source": [
    "&nbsp;"
   ]
  },
  {
   "cell_type": "markdown",
   "id": "da2ce451-cee0-47be-8859-fa436bc03d9f",
   "metadata": {},
   "source": [
    "## Some Pandas utility methods:"
   ]
  },
  {
   "cell_type": "markdown",
   "id": "f4a985f5-66ea-4314-9cc9-91be432619ce",
   "metadata": {},
   "source": [
    "### `series.value_counts_percentage()` of `series.vcp()`"
   ]
  },
  {
   "cell_type": "code",
   "execution_count": 16,
   "id": "80c4ece6-c52e-420c-a470-2a732c2217d4",
   "metadata": {},
   "outputs": [
    {
     "data": {
      "text/html": [
       "<div>\n",
       "<style scoped>\n",
       "    .dataframe tbody tr th:only-of-type {\n",
       "        vertical-align: middle;\n",
       "    }\n",
       "\n",
       "    .dataframe tbody tr th {\n",
       "        vertical-align: top;\n",
       "    }\n",
       "\n",
       "    .dataframe thead th {\n",
       "        text-align: right;\n",
       "    }\n",
       "</style>\n",
       "<table border=\"1\" class=\"dataframe\">\n",
       "  <thead>\n",
       "    <tr style=\"text-align: right;\">\n",
       "      <th></th>\n",
       "      <th>COUNT</th>\n",
       "      <th>PERC</th>\n",
       "    </tr>\n",
       "    <tr>\n",
       "      <th>A</th>\n",
       "      <th></th>\n",
       "      <th></th>\n",
       "    </tr>\n",
       "  </thead>\n",
       "  <tbody>\n",
       "    <tr>\n",
       "      <th>ham</th>\n",
       "      <td>50</td>\n",
       "      <td>0.500</td>\n",
       "    </tr>\n",
       "    <tr>\n",
       "      <th>eggs</th>\n",
       "      <td>50</td>\n",
       "      <td>0.500</td>\n",
       "    </tr>\n",
       "  </tbody>\n",
       "</table>\n",
       "</div>"
      ],
      "text/plain": [
       "      COUNT  PERC\n",
       "A                \n",
       "ham      50 0.500\n",
       "eggs     50 0.500"
      ]
     },
     "execution_count": 16,
     "metadata": {},
     "output_type": "execute_result"
    }
   ],
   "source": [
    "df.A.vcp()"
   ]
  },
  {
   "cell_type": "markdown",
   "id": "6f02b5c8-126e-4061-ab5f-2d04e3391d14",
   "metadata": {},
   "source": [
    "### `df.to_map(col1, col2)` - creates a dictionary with col1 as keys and col2 as values"
   ]
  },
  {
   "cell_type": "code",
   "execution_count": 17,
   "id": "6961c91e-99fa-4dba-ac42-0ae7031f5860",
   "metadata": {},
   "outputs": [
    {
     "data": {
      "text/plain": [
       "{Timestamp('2023-08-08 00:00:00'): 0.21002047388754322,\n",
       " Timestamp('2023-08-27 00:00:00'): 0.08918589087189265,\n",
       " Timestamp('2023-08-15 00:00:00'): 0.30204113925114556,\n",
       " Timestamp('2023-06-14 00:00:00'): -0.012436150595751778,\n",
       " Timestamp('2023-06-22 00:00:00'): -0.06412325027102769}"
      ]
     },
     "execution_count": 17,
     "metadata": {},
     "output_type": "execute_result"
    }
   ],
   "source": [
    "df.head().to_map('C', 'D')"
   ]
  },
  {
   "cell_type": "markdown",
   "id": "88eea51c-dad6-461b-b9d8-ff60c547e651",
   "metadata": {},
   "source": [
    "&nbsp; "
   ]
  },
  {
   "cell_type": "markdown",
   "id": "bb94765e-3881-4509-bd15-054c697ddd38",
   "metadata": {},
   "source": [
    "### `df.rsort(...)` - a shortcut for reverse sort"
   ]
  },
  {
   "cell_type": "code",
   "execution_count": 18,
   "id": "a8f7a9bb-4ba6-4dba-906c-62f4184bd4a6",
   "metadata": {},
   "outputs": [
    {
     "data": {
      "text/html": [
       "<div>\n",
       "<style scoped>\n",
       "    .dataframe tbody tr th:only-of-type {\n",
       "        vertical-align: middle;\n",
       "    }\n",
       "\n",
       "    .dataframe tbody tr th {\n",
       "        vertical-align: top;\n",
       "    }\n",
       "\n",
       "    .dataframe thead th {\n",
       "        text-align: right;\n",
       "    }\n",
       "</style>\n",
       "<table border=\"1\" class=\"dataframe\">\n",
       "  <thead>\n",
       "    <tr style=\"text-align: right;\">\n",
       "      <th></th>\n",
       "      <th>A</th>\n",
       "      <th>B</th>\n",
       "      <th>C</th>\n",
       "      <th>D</th>\n",
       "      <th>E</th>\n",
       "    </tr>\n",
       "  </thead>\n",
       "  <tbody>\n",
       "    <tr>\n",
       "      <th>61</th>\n",
       "      <td>eggs</td>\n",
       "      <td>gamma</td>\n",
       "      <td>2023-09-11</td>\n",
       "      <td>0.042</td>\n",
       "      <td>3</td>\n",
       "    </tr>\n",
       "    <tr>\n",
       "      <th>21</th>\n",
       "      <td>eggs</td>\n",
       "      <td>gamma</td>\n",
       "      <td>2023-07-05</td>\n",
       "      <td>0.628</td>\n",
       "      <td>3</td>\n",
       "    </tr>\n",
       "    <tr>\n",
       "      <th>90</th>\n",
       "      <td>eggs</td>\n",
       "      <td>gamma</td>\n",
       "      <td>2023-07-16</td>\n",
       "      <td>-0.706</td>\n",
       "      <td>0</td>\n",
       "    </tr>\n",
       "    <tr>\n",
       "      <th>60</th>\n",
       "      <td>eggs</td>\n",
       "      <td>gamma</td>\n",
       "      <td>2023-07-13</td>\n",
       "      <td>-0.703</td>\n",
       "      <td>2</td>\n",
       "    </tr>\n",
       "    <tr>\n",
       "      <th>25</th>\n",
       "      <td>eggs</td>\n",
       "      <td>gamma</td>\n",
       "      <td>2023-09-14</td>\n",
       "      <td>-0.832</td>\n",
       "      <td>2</td>\n",
       "    </tr>\n",
       "  </tbody>\n",
       "</table>\n",
       "</div>"
      ],
      "text/plain": [
       "       A      B          C      D  E\n",
       "61  eggs  gamma 2023-09-11  0.042  3\n",
       "21  eggs  gamma 2023-07-05  0.628  3\n",
       "90  eggs  gamma 2023-07-16 -0.706  0\n",
       "60  eggs  gamma 2023-07-13 -0.703  2\n",
       "25  eggs  gamma 2023-09-14 -0.832  2"
      ]
     },
     "execution_count": 18,
     "metadata": {},
     "output_type": "execute_result"
    }
   ],
   "source": [
    "df.rsort('B').head()"
   ]
  },
  {
   "cell_type": "markdown",
   "id": "7f0b118c-af11-47f0-a0a4-3416e48eb581",
   "metadata": {},
   "source": [
    "&nbsp; "
   ]
  },
  {
   "cell_type": "markdown",
   "id": "592a821c-dc9d-4d6a-be01-d65bdd863c81",
   "metadata": {},
   "source": [
    "### `series.mcut(...)` - a wrapper over the `series.cut(..)` function."
   ]
  },
  {
   "cell_type": "markdown",
   "id": "66c367cd-2222-4f35-a0fd-dc7e92b9c668",
   "metadata": {},
   "source": [
    "This function makes it easier to divide the data into custom bins. The `bins` parameter is a list of numbers which form the boundaries of bins. "
   ]
  },
  {
   "cell_type": "code",
   "execution_count": 19,
   "id": "35b8ede7-0768-4738-9f7f-cf9bbcd95f99",
   "metadata": {},
   "outputs": [
    {
     "data": {
      "text/html": [
       "<div>\n",
       "<style scoped>\n",
       "    .dataframe tbody tr th:only-of-type {\n",
       "        vertical-align: middle;\n",
       "    }\n",
       "\n",
       "    .dataframe tbody tr th {\n",
       "        vertical-align: top;\n",
       "    }\n",
       "\n",
       "    .dataframe thead th {\n",
       "        text-align: right;\n",
       "    }\n",
       "</style>\n",
       "<table border=\"1\" class=\"dataframe\">\n",
       "  <thead>\n",
       "    <tr style=\"text-align: right;\">\n",
       "      <th></th>\n",
       "      <th>count</th>\n",
       "    </tr>\n",
       "    <tr>\n",
       "      <th>D</th>\n",
       "      <th></th>\n",
       "    </tr>\n",
       "  </thead>\n",
       "  <tbody>\n",
       "    <tr>\n",
       "      <th>-1 - 0</th>\n",
       "      <td>41</td>\n",
       "    </tr>\n",
       "    <tr>\n",
       "      <th>-2 - -1</th>\n",
       "      <td>13</td>\n",
       "    </tr>\n",
       "    <tr>\n",
       "      <th>0 - 1</th>\n",
       "      <td>28</td>\n",
       "    </tr>\n",
       "    <tr>\n",
       "      <th>1 - 2</th>\n",
       "      <td>13</td>\n",
       "    </tr>\n",
       "    <tr>\n",
       "      <th>&gt;= 2</th>\n",
       "      <td>1</td>\n",
       "    </tr>\n",
       "    <tr>\n",
       "      <th>nan</th>\n",
       "      <td>4</td>\n",
       "    </tr>\n",
       "  </tbody>\n",
       "</table>\n",
       "</div>"
      ],
      "text/plain": [
       "         count\n",
       "D             \n",
       "-1 - 0      41\n",
       "-2 - -1     13\n",
       "0 - 1       28\n",
       "1 - 2       13\n",
       ">= 2         1\n",
       "nan          4"
      ]
     },
     "execution_count": 19,
     "metadata": {},
     "output_type": "execute_result"
    }
   ],
   "source": [
    "cuts = df.D.mcut(bins=[-2, -1, 0, 1, 2])\n",
    "cuts.value_counts().sort_index().to_frame()"
   ]
  },
  {
   "cell_type": "code",
   "execution_count": null,
   "id": "70c0fe2d-13fc-4df6-be1d-1f9dff7ffc67",
   "metadata": {},
   "outputs": [],
   "source": []
  },
  {
   "cell_type": "markdown",
   "id": "43017b70-eb90-4b49-9b6b-a9f929447a44",
   "metadata": {},
   "source": [
    "# Files"
   ]
  },
  {
   "cell_type": "markdown",
   "id": "d5e39d21-6441-4b7e-b4be-d19c40ce734a",
   "metadata": {},
   "source": [
    "Simple utilities to quickly read/write data in files.  "
   ]
  },
  {
   "cell_type": "code",
   "execution_count": 20,
   "id": "953bbd57-7abe-4e1e-86d8-02d4dd87c0f9",
   "metadata": {},
   "outputs": [],
   "source": [
    "content = \"\"\"\n",
    "This is some text.\n",
    "\"\"\"\n",
    "ntk.write_to_file(filepath='/tmp/tmp_file.txt', content=content)\n",
    "\n",
    "content = \"\"\"\n",
    "This is some more text. \n",
    "\"\"\"\n",
    "ntk.append_to_file(filepath='/tmp/tmp_file.txt', content=content, strip=False)"
   ]
  },
  {
   "cell_type": "code",
   "execution_count": 21,
   "id": "27e55510-cb9d-40f1-955f-63e8ac9c96a9",
   "metadata": {},
   "outputs": [
    {
     "name": "stdout",
     "output_type": "stream",
     "text": [
      "This is some text.\n",
      "\n",
      "This is some more text. \n",
      "\n"
     ]
    }
   ],
   "source": [
    "print(ntk.read_file(filepath='/tmp/tmp_file.txt'))"
   ]
  },
  {
   "cell_type": "markdown",
   "id": "49396cec-fb6a-49c1-9868-320e93e1b55a",
   "metadata": {},
   "source": [
    "&nbsp;"
   ]
  },
  {
   "cell_type": "markdown",
   "id": "3b6b3d2d-3ac4-48a5-bd5b-3f0d184397fc",
   "metadata": {},
   "source": [
    "`write_to_excel` - A utility function to make it easy to write a multi-sheet excel file"
   ]
  },
  {
   "cell_type": "code",
   "execution_count": 22,
   "id": "b1940407-d314-4ee7-9d4a-e1f12d2ea06e",
   "metadata": {},
   "outputs": [
    {
     "name": "stdout",
     "output_type": "stream",
     "text": [
      "2023-12-10 13:28:03.344363 :: MainThread ::  Write to excel - /tmp/data.xlsx\n",
      "2023-12-10 13:28:03.364009 :: MainThread ::  Write to excel - writing sheet - sheet1\n",
      "2023-12-10 13:28:03.373395 :: MainThread ::  Write to excel - writing sheet - sheet2\n",
      "2023-12-10 13:28:03.379992 :: MainThread ::  Write to excel - writing sheet - sheet3\n",
      "2023-12-10 13:28:03.455109 :: MainThread ::  Write to excel - done\n"
     ]
    }
   ],
   "source": [
    "dfs_map = {\n",
    "    'sheet1': create_random_data(n_rows=20),\n",
    "    'sheet2': create_random_data(n_rows=20),\n",
    "    'sheet3': create_random_data(n_rows=20),\n",
    "}\n",
    "\n",
    "ntk.write_dfs_to_excel(dfs_map=dfs_map, file_name='/tmp/data.xlsx')"
   ]
  },
  {
   "cell_type": "code",
   "execution_count": null,
   "id": "36fe056f-0d8a-474c-b456-2864d4103ca3",
   "metadata": {},
   "outputs": [],
   "source": []
  },
  {
   "cell_type": "markdown",
   "id": "d8208770-8bfa-4983-a3ae-19778f1efe87",
   "metadata": {},
   "source": [
    "# Repeated Execution"
   ]
  },
  {
   "cell_type": "markdown",
   "id": "af9b473c-6b98-4446-b061-0f6cc94795de",
   "metadata": {},
   "source": [
    "We sometimes need to execute a particular task repeatedly at some fixed delay or interval. \n",
    "Any exceptions which occur are logged and do not affect sub-sequent exections. "
   ]
  },
  {
   "cell_type": "code",
   "execution_count": 28,
   "id": "1e1e913d-43d9-4901-bb22-4fb142e97eed",
   "metadata": {},
   "outputs": [
    {
     "name": "stdout",
     "output_type": "stream",
     "text": [
      "2023-12-10 13:39:11.160126 :: Thread-26 :: [Some][Log][Prefix] Function Started\n",
      "2023-12-10 13:39:11.165573 :: Thread-26 :: [Some][Log][Prefix] Running a repeated task\n",
      "2023-12-10 13:39:11.171282 :: Thread-26 :: [Some][Log][Prefix] Function Done - took time 00:00:00.012\n",
      "2023-12-10 13:39:15.160387 :: Thread-27 :: [Some][Log][Prefix] Function Started\n",
      "2023-12-10 13:39:15.167263 :: Thread-27 :: [Some][Log][Prefix] Running a repeated task\n",
      "2023-12-10 13:39:15.173637 :: Thread-27 :: [Some][Log][Prefix] Function Done - took time 00:00:00.012\n",
      "2023-12-10 13:39:19.160709 :: Thread-28 :: [Some][Log][Prefix] Function Started\n",
      "2023-12-10 13:39:19.165857 :: Thread-28 :: [Some][Log][Prefix] Running a repeated task\n",
      "2023-12-10 13:39:19.169713 :: Thread-28 :: [Some][Log][Prefix] Function Done - took time 00:00:00.009\n",
      "2023-12-10 13:39:23.163375 :: Thread-29 :: [Some][Log][Prefix] Function Started\n",
      "2023-12-10 13:39:23.170748 :: Thread-29 :: [Some][Log][Prefix] Running a repeated task\n",
      "2023-12-10 13:39:23.175528 :: Thread-29 :: [Some][Log][Prefix] Function Done - took time 00:00:00.012\n",
      "2023-12-10 13:39:27.163587 :: Thread-30 :: [Some][Log][Prefix] Function Started\n",
      "2023-12-10 13:39:27.167397 :: Thread-30 :: [Some][Log][Prefix] Running a repeated task\n",
      "2023-12-10 13:39:27.171226 :: Thread-30 :: [Some][Log][Prefix] Function Done - took time 00:00:00.007\n",
      "2023-12-10 13:39:28.178460 :: MainThread ::  shutdown called\n"
     ]
    }
   ],
   "source": [
    "def code_to_run_repeatedly():\n",
    "    ntk.log_info('Running a repeated task')\n",
    "\n",
    "scheduler = ntk.FixedDelayTaskScheduler(interval=4, function=code_to_run_repeatedly, log_prefix='[Some][Log][Prefix]')\n",
    "\n",
    "import time\n",
    "time.sleep(21)\n",
    "scheduler.shutdown()"
   ]
  },
  {
   "cell_type": "code",
   "execution_count": null,
   "id": "ef7c48ae-a664-4e76-a4cc-db92ce76e915",
   "metadata": {},
   "outputs": [],
   "source": []
  }
 ],
 "metadata": {
  "kernelspec": {
   "display_name": "Python 3 (ipykernel)",
   "language": "python",
   "name": "python3"
  },
  "language_info": {
   "codemirror_mode": {
    "name": "ipython",
    "version": 3
   },
   "file_extension": ".py",
   "mimetype": "text/x-python",
   "name": "python",
   "nbconvert_exporter": "python",
   "pygments_lexer": "ipython3",
   "version": "3.10.12"
  }
 },
 "nbformat": 4,
 "nbformat_minor": 5
}
